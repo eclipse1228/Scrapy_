{
 "cells": [
  {
   "metadata": {},
   "cell_type": "markdown",
   "source": [
    "# 사람처럼 보이기 \n",
    "\n",
    "## 헤더 수정하기 \n",
    "1. 헤더를 실제 브라우저처럼 만들자. requests 라이브러리로 가능하다. \n",
    "www.whatismybrowser.com 에서 브라우저가 보내는 헤더가 서버에서 어떻게 보이지는지 테스트할 수 있다.\n",
    "2. 헤더 바꾸는걸로 크롤링하는 언어도 바꿀 수 있다. ( 대형 웹사이트는 ) \n",
    "3. 광고가 너무 많아서 짜증나면, 모바일버전으로 하면 줄어든다. (보통) , 다 없어지는 경우도 있고.\n"
   ],
   "id": "8ce68c747a7d41e5"
  },
  {
   "cell_type": "code",
   "id": "initial_id",
   "metadata": {
    "collapsed": true,
    "ExecuteTime": {
     "end_time": "2024-07-29T08:46:21.822758Z",
     "start_time": "2024-07-29T08:46:20.455427Z"
    }
   },
   "source": [
    "\n",
    "import requests\n",
    "from bs4 import BeautifulSoup\n",
    "\n",
    "session = requests.Session()\n",
    "headers = {'User-Agent':'Mozilla/5.0 (Macintosh; Intel Mac OS X 10_15_7) AppleWebKit/537.36 (KHTML, like Gecko) Chrome/113.0.0.0 Safari/537.36',\n",
    "           'Accept':'text/html,application/xhtml+xml,application/xml;q=0.9,image/avif,image/webp,image/apng,*/*;q=0.8,application/signed-exchange;v=b3;q=0.7'}\n",
    "url = 'https://www.whatismybrowser.com/' \\\n",
    "      'developers/what-http-headers-is-my-browser-sending'\n",
    "req = session.get(url, headers=headers)\n",
    "\n",
    "bs = BeautifulSoup(req.text, 'html.parser')\n",
    "print(bs.find('table', {'class':'table-striped'}).get_text)"
   ],
   "outputs": [
    {
     "name": "stdout",
     "output_type": "stream",
     "text": [
      "<bound method PageElement.get_text of <table class=\"table table-striped table-data\">\n",
      "<tr>\n",
      "<th>ACCEPT</th>\n",
      "<td><span class=\"code detected_result\">text/html,application/xhtml+xml,application/xml;q=0.9,image/avif,image/webp,image/apng,*/*;q=0.8,application/signed-exchange;v=b3;q=0.7</span></td>\n",
      "</tr>\n",
      "<tr>\n",
      "<th>ACCEPT-ENCODING</th>\n",
      "<td><span class=\"code detected_result\">gzip, deflate</span></td>\n",
      "</tr>\n",
      "<tr>\n",
      "<th>CONNECTION</th>\n",
      "<td><span class=\"code detected_result\">keep-alive</span></td>\n",
      "</tr>\n",
      "<tr>\n",
      "<th>CONTENT-LENGTH</th>\n",
      "<td><span class=\"code detected_result\"></span></td>\n",
      "</tr>\n",
      "<tr>\n",
      "<th>CONTENT-TYPE</th>\n",
      "<td><span class=\"code detected_result\"></span></td>\n",
      "</tr>\n",
      "<tr>\n",
      "<th>HOST</th>\n",
      "<td><span class=\"code detected_result\">www.whatismybrowser.com</span></td>\n",
      "</tr>\n",
      "<tr>\n",
      "<th>USER-AGENT</th>\n",
      "<td><span class=\"code detected_result\">Mozilla/5.0 (Macintosh; Intel Mac OS X 10_15_7) AppleWebKit/537.36 (KHTML, like Gecko) Chrome/113.0.0.0 Safari/537.36</span></td>\n",
      "</tr>\n",
      "</table>>\n"
     ]
    }
   ],
   "execution_count": 6
  },
  {
   "metadata": {},
   "cell_type": "markdown",
   "source": [
    "## 쿠키 조작 \n",
    "1. 사이트가 생성하는 쿠키를 점검해봐야합니다.\n",
    "쿠키로 인해 오히려 의심받을 수 있다.( 쿠키로 내 이동경로를 파악하고 있다면, 폼 완성 속도, 빠른 페이지 이동속도가 비정상적이라고 판단할 수 있음.)\n",
    "2. EditThisCookie 플러그인으로 사이트에 방문함에 따라 쿠기가 어떻게 바뀌는지 보여주는 플러그인이 있다."
   ],
   "id": "ce51783f7d1f1179"
  },
  {
   "metadata": {
    "ExecuteTime": {
     "end_time": "2024-07-29T09:00:34.377920Z",
     "start_time": "2024-07-29T09:00:24.772466Z"
    }
   },
   "cell_type": "code",
   "source": [
    "# requests 로는 자바스크립트 실행 못하니까 구글 애널리틱스 같은 추적 소프트웨어에서 만드는 쿠키는 처리하지못합니다.\n",
    "# 보통 그런 쿠키는 클라이어언트의 실행을 마치거나, 버튼 클릭같은 이벤트로 생성됨.\n",
    "# 따라서 셀레니움 필요함.\n",
    "\n",
    "# get_cookies() : 쿠키 가져오기\n",
    "from selenium import webdriver\n",
    "from selenium.webdriver.chrome.options import Options\n",
    "\n",
    "from chromedriver_autoinstaller import install\n",
    "install()\n",
    "\n",
    "chrome_options = Options()\n",
    "chrome_options.add_argument(\"--headless\")\n",
    "driver = webdriver.Chrome(options=chrome_options)\n",
    "\n",
    "driver.get('http://pythonscraping.com')\n",
    "driver.implicitly_wait(1)\n",
    "print(driver.get_cookies())"
   ],
   "id": "1b17d14ef1b4377b",
   "outputs": [
    {
     "name": "stdout",
     "output_type": "stream",
     "text": [
      "[{'domain': '.pythonscraping.com', 'expiry': 1756803633, 'httpOnly': False, 'name': '_ga', 'path': '/', 'sameSite': 'Lax', 'secure': False, 'value': 'GA1.1.1341282419.1722243634'}, {'domain': '.pythonscraping.com', 'expiry': 1756803633, 'httpOnly': False, 'name': '_ga_G60J5CGY1N', 'path': '/', 'sameSite': 'Lax', 'secure': False, 'value': 'GS1.1.1722243633.1.0.1722243633.0.0.0'}]\n"
     ]
    }
   ],
   "execution_count": 13
  },
  {
   "metadata": {},
   "cell_type": "code",
   "outputs": [],
   "execution_count": null,
   "source": "",
   "id": "9cf40545bc6afba0"
  }
 ],
 "metadata": {
  "kernelspec": {
   "display_name": "Python 3",
   "language": "python",
   "name": "python3"
  },
  "language_info": {
   "codemirror_mode": {
    "name": "ipython",
    "version": 2
   },
   "file_extension": ".py",
   "mimetype": "text/x-python",
   "name": "python",
   "nbconvert_exporter": "python",
   "pygments_lexer": "ipython2",
   "version": "2.7.6"
  }
 },
 "nbformat": 4,
 "nbformat_minor": 5
}
