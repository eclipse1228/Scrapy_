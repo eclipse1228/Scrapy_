{
 "cells": [
  {
   "metadata": {},
   "cell_type": "markdown",
   "source": [
    "# javascript 스크래핑\n",
    "- 폼을 새로 고치지 않은 상태에서의 정보 전송도 가능함 (ajax)\n",
    "- js 는 함수를 변수처럼 사용할 수 있다는 좋은 기능이있다. (내가 제일 좋아하는 기능) \n",
    "\n",
    "## "
   ],
   "id": "bac6a5c694f8bd32"
  },
  {
   "metadata": {},
   "cell_type": "markdown",
   "source": [
    "## 널리 쓰이는 js 라이브러리\n",
    "### jQuery\n",
    "- 대놓고 <script src=\"https://code.jquery.com/jquery-3.3.1.min.js\"></script> 를 넣어서 사용하는 것이 일반적이다.\n",
    "- js가 실행된 다음에 동적으로 HTML 콘텐츠 생성할 수도 있음. \n",
    "- 즉, 여지껏 사용하던 방법으로 스크랩하면 JS가 생성한 콘텐츠는 놓치는거임.! (Ajax와 DOm에 대한 이해가 필요합니다)\n",
    "- 보통 애니메이션, 대화형 콘텐츠 미디어 파일이 있어서 스크랩이 어렵습니다.\n",
    "\n",
    "### Google 애널리틱스\n",
    "- 웹사이트 방문자 추적을 위한 서비스 (50% 이상의 웹사이트가 사용하고 있음)\n",
    "- 소스 코드 마지막에 <!-- Google Analytics --> 를 넣어서 사용함.\n",
    "- 이 스크립트는 페이지에서 페이지로 이동하는 당신의 움직임을 추적하는 특수한 쿠키를 사용한다.\n",
    "\n",
    "### Google 맵스\n",
    "- Google의 reverse GeoCoding API 를 사용하면, 위도와 경도를 주소로 변환할 수 있음.\n",
    "\n",
    "# AJax 와 DHTML\n",
    "- 웹페이지를 새로 고치지 않고도 정보를 전송할 수 있음.\n",
    "원래라면 HTTP요청을 보낸것인데요, 만약 페이지를 새로 고치지 않고 폼을 전송하거나, 서버에서 정보를 가져온 경우는 대부분 AJAX를 사용한거다.\n",
    "- AJAX는 언어가 아니라 기술 묶음이다. (asynchronous JavaScript and XML) 서버에 별도 요청하지않고 정보를 주고 받기 위해 사용된다. \n"
   ],
   "id": "9f504f55cd0e12df"
  },
  {
   "metadata": {},
   "cell_type": "markdown",
   "source": [
    "# Selenium 사용 \n",
    "- 웹사이트를 브라우저를 통해 제어할 수 있음.\n",
    "- 목적은 웹사이트 테스트 였지만, 현재는 웹 스크레핑 도구로 자주 사용됨.\n",
    "- 웹 드라이버 위에서 호출되는 API 입니다.\n",
    "## 팬텀 JS를 통해 인터페이스가 없는 헤드리스 브라우저를 사용했었음 ( 메모리에 불러와서 사용은 해도, 그래픽은 전혀 렌더링 하지 않음 )\n",
    "## 그러나 현재는 Chrome도 헤드리스 옵션을 지원함예따라 팬텀 JS 개발 중단됐음."
   ],
   "id": "288f65f694aefd82"
  },
  {
   "cell_type": "code",
   "id": "initial_id",
   "metadata": {
    "collapsed": true,
    "ExecuteTime": {
     "end_time": "2024-07-28T15:18:24.844803Z",
     "start_time": "2024-07-28T15:18:16.975991Z"
    }
   },
   "source": [
    "# 예시 페이지는 2초뒤에 로딩되는 페이지임. (3초 기다리고 스크랩하자)\n",
    "from selenium.webdriver.common.by import By\n",
    "from selenium import webdriver\n",
    "import time\n",
    "import chromedriver_autoinstaller\n",
    "chromedriver_autoinstaller.install(True) # 강제로 최신 버전을 설치하지 않도록 설정\n",
    "\n",
    "options = webdriver.ChromeOptions()\n",
    "options.add_argument('headless')\n",
    "driver = webdriver.Chrome(options=options)\n",
    "url = 'http://pythonscraping.com/pages/javascript/ajaxDemo.html'\n",
    "driver.get(url)\n",
    "time.sleep(3)\n",
    "print(driver.find_element(By.ID,'content').text)\n",
    "driver.close()\n"
   ],
   "outputs": [
    {
     "name": "stdout",
     "output_type": "stream",
     "text": [
      "Here is some important text you want to retrieve!\n",
      "A button to click!\n"
     ]
    }
   ],
   "execution_count": 5
  },
  {
   "metadata": {},
   "cell_type": "markdown",
   "source": [
    "## 근데 이거 계속 하다보면 네트워크 때문에 3초가 정확히 3초가 아니게 될 수 있고, 에러 날 수 있음\n",
    "따라서, 요소가 나올때까지 계속 확인하다가 존재할 때만 데이터를 가져온다. \n",
    "- WebDriverWait 를 사용하면 됨 (묵시적 대기 라는 기능이다.)\n",
    "\n",
    "\n",
    "### 묵시적 대기? 명시적 대기?? \n",
    "명시적 대기는 3초간 기다리는거다. \n",
    "- 묵시적 대기는 우리가기다릴 DOM의 상태는 expected_condition으로 정의한다. EC라고 썻음"
   ],
   "id": "b4c17b2f81e26f3d"
  },
  {
   "metadata": {
    "ExecuteTime": {
     "end_time": "2024-07-28T15:29:55.682097Z",
     "start_time": "2024-07-28T15:29:48.420281Z"
    }
   },
   "cell_type": "code",
   "source": [
    "from selenium.webdriver.support.wait import WebDriverWait\n",
    "from selenium.webdriver.support import expected_conditions as EC\n",
    "from selenium.webdriver.common.by import By\n",
    "from selenium import webdriver\n",
    "import chromedriver_autoinstaller\n",
    "chromedriver_autoinstaller.install(True) # 강제로 최신 버전을 설치하지 않도록 설정\n",
    "\n",
    "options = webdriver.ChromeOptions()\n",
    "options.add_argument('headless')\n",
    "driver = webdriver.Chrome(options=options)\n",
    "url = 'http://pythonscraping.com/pages/javascript/ajaxDemo.html'\n",
    "\n",
    "driver.get(url)\n",
    "\n",
    "try: \n",
    "    element = WebDriverWait(driver,10).until(EC.presence_of_element_located((By.ID,'loadedButton')))\n",
    "finally:\n",
    "    print(driver.find_element(By.ID,'content').text)\n",
    "    driver.close()\n"
   ],
   "id": "92b7e4875dd532fd",
   "outputs": [
    {
     "name": "stdout",
     "output_type": "stream",
     "text": [
      "Here is some important text you want to retrieve!\n",
      "A button to click!\n"
     ]
    }
   ],
   "execution_count": 8
  },
  {
   "metadata": {},
   "cell_type": "code",
   "outputs": [],
   "execution_count": null,
   "source": "",
   "id": "35b07179f742597"
  }
 ],
 "metadata": {
  "kernelspec": {
   "display_name": "Python 3",
   "language": "python",
   "name": "python3"
  },
  "language_info": {
   "codemirror_mode": {
    "name": "ipython",
    "version": 2
   },
   "file_extension": ".py",
   "mimetype": "text/x-python",
   "name": "python",
   "nbconvert_exporter": "python",
   "pygments_lexer": "ipython2",
   "version": "2.7.6"
  }
 },
 "nbformat": 4,
 "nbformat_minor": 5
}
