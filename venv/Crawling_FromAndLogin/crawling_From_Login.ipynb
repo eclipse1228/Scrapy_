{
 "cells": [
  {
   "metadata": {},
   "cell_type": "markdown",
   "source": [
    "# 로그인을 뚫자\n",
    "\n",
    "- urlib와 Get 요청으로 할 수 있다 하지만 더 단순하게 하는 법 requests 라이브러리를 사용한다.\n",
    "- requests 라이브러리를 사용하면 복잡한 HTTP 요청과 쿠키,헤더와 세션을 사용할 수 있다."
   ],
   "id": "613760a7b9f9174b"
  },
  {
   "metadata": {},
   "cell_type": "markdown",
   "source": [
    "request 라이브러리로 폼을 보내는 코드\n",
    "- 당연히 url은 폼이 전송되는 곳 url이어야함.\n",
    "- "
   ],
   "id": "112aee8c75d725ac"
  },
  {
   "cell_type": "code",
   "id": "initial_id",
   "metadata": {
    "collapsed": true,
    "ExecuteTime": {
     "end_time": "2024-07-28T13:54:39.153282Z",
     "start_time": "2024-07-28T13:54:38.211261Z"
    }
   },
   "source": [
    "import requests\n",
    "params = {'firstname':'bs', 'lastname':'g'}\n",
    "r = requests.post('https://pythonscraping.com/pages/files/processing.php', data=params)\n",
    "print(r.text)"
   ],
   "outputs": [
    {
     "name": "stdout",
     "output_type": "stream",
     "text": [
      "Hello there, bs g!\n"
     ]
    }
   ],
   "execution_count": 9
  },
  {
   "metadata": {},
   "cell_type": "markdown",
   "source": [
    "## 쿠키 인증받고 바로 로그인 하기 \n",
    "- 쿠키가 없으면 내가 로그인하지 않았다고 판단할 수 있다.(그러니까 로그인은 했는데, 쿠키가 없다? => 로그인이 안됐다고 판단할 수 있음)"
   ],
   "id": "7327ba1c52f26afa"
  },
  {
   "metadata": {
    "ExecuteTime": {
     "end_time": "2024-07-28T14:25:38.927894Z",
     "start_time": "2024-07-28T14:25:36.961066Z"
    }
   },
   "cell_type": "code",
   "source": [
    "import requests\n",
    "params ={'username':'bs', 'password':'password'}\n",
    "welcome_page = 'https://pythonscraping.com/pages/cookies/welcome.php'\n",
    "r= requests.post(welcome_page, params)\n",
    "\n",
    "print('Cookie is set to:')\n",
    "print(r.cookies.get_dict())\n",
    "print('Going to profile page...')\n",
    "\n",
    "profile_page = 'https://pythonscraping.com/pages/cookies/profile.php'\n",
    "r = requests.get(profile_page, cookies=r.cookies)\n",
    "print(r.text)\n",
    "\n",
    "# 로그인하고, 쿠키를 받아서, 쿠키를 가지고 프로필 페이지로 가는 코드\n"
   ],
   "id": "d89329111dbef84e",
   "outputs": [
    {
     "name": "stdout",
     "output_type": "stream",
     "text": [
      "Cookie is set to:\n",
      "{'loggedin': '1', 'username': 'bs'}\n",
      "Going to profile page...\n",
      "Hey bs! Looks like you're still logged into the site!\n"
     ]
    }
   ],
   "execution_count": 10
  },
  {
   "metadata": {},
   "cell_type": "markdown",
   "source": [
    "## 보안으로 쿠키를 경고 없이 자주 수정하는 경우가 있음\n",
    "- 이때는 Session을 사용하면 된다. "
   ],
   "id": "dbafa01da23993b"
  },
  {
   "metadata": {
    "ExecuteTime": {
     "end_time": "2024-07-28T14:27:53.853933Z",
     "start_time": "2024-07-28T14:27:52.538025Z"
    }
   },
   "cell_type": "code",
   "source": [
    "import requests\n",
    "session = requests.Session()\n",
    "\n",
    "params = {'username':'username', 'password':'password'}\n",
    "welcome_page = 'https://pythonscraping.com/pages/cookies/welcome.php'\n",
    "s = session.post(welcome_page, params)\n",
    "\n",
    "print('Cookie is set to:')\n",
    "print(s.cookies.get_dict())\n",
    "print('Going to profile page...')\n",
    "\n",
    "profile_page = 'https://pythonscraping.com/pages/cookies/profile.php'\n",
    "s = session.get(profile_page)\n",
    "print(s.text)\n",
    "# 세션 객체가 쿠키나, 헤더, 심지어 HTTPAdapter 관한 정보까지 세션 정보를 관리한다."
   ],
   "id": "90c3be677720e109",
   "outputs": [
    {
     "name": "stdout",
     "output_type": "stream",
     "text": [
      "Cookie is set to:\n",
      "{'loggedin': '1', 'username': 'username'}\n",
      "Going to profile page...\n",
      "Hey username! Looks like you're still logged into the site!\n"
     ]
    }
   ],
   "execution_count": 11
  },
  {
   "metadata": {},
   "cell_type": "code",
   "outputs": [],
   "execution_count": null,
   "source": "",
   "id": "fa73b95df0cf1749"
  }
 ],
 "metadata": {
  "kernelspec": {
   "display_name": "Python 3",
   "language": "python",
   "name": "python3"
  },
  "language_info": {
   "codemirror_mode": {
    "name": "ipython",
    "version": 2
   },
   "file_extension": ".py",
   "mimetype": "text/x-python",
   "name": "python",
   "nbconvert_exporter": "python",
   "pygments_lexer": "ipython2",
   "version": "2.7.6"
  }
 },
 "nbformat": 4,
 "nbformat_minor": 5
}
