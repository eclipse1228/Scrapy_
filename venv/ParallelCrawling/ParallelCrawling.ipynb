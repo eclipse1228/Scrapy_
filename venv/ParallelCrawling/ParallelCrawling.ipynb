{
 "cells": [
  {
   "metadata": {},
   "cell_type": "markdown",
   "source": [
    "# 병렬 처리가 필요한 상황 .\n",
    "- 원격 서버에서 데이터 수집하는 경우\n",
    "- 수집한 데이터에 이미지분석, OCR 처럼 길고 복잡한 작업이면서 작업을 수행하면서 동시에 데이터를 가져와야하는 경우\n",
    "- 매 쿼리에 대해 비용을 지불하는 대규모 웹 서비스에서 데이터 수집, 사용 계약 안에서 다중연결을 이용하는 경우 \n",
    "\n",
    "# 파이썬 (멀티프로세싱, 멀티쓰레딩 둘 다 지원) \n",
    "- 프로세스는 독립적으로 메모리를 할당받는다. \n",
    "- 그래.. 멀티프로세싱보다 멀티쓰레딩이 쉬운데, 편리함엔 대가가 따른다. \n",
    "- 파이썬의 전역 인터프리터 잠금(GIL)은 스레드가 같은 코드 행을 동시에 실행하지 못하게 막는 방식으로 스레드들이 공유하는 메모리가 손상되지 않게 보호한다. \n",
    "- 그래서 이 잠금 기능 덕분에 멀티스레드 프로그램을 작성할 때 각 라인이 의도한대로 잘 동작할거라 확신 할 수 있지만 (병목현상을 만들 가능성도 있다.)\n",
    "\n",
    "\n",
    "# _thread 모듈 사용한다. (thread 모듈은 파기됬음) \n",
    "\n"
   ],
   "id": "303aa16d23d07aad"
  },
  {
   "cell_type": "code",
   "id": "initial_id",
   "metadata": {
    "collapsed": true,
    "ExecuteTime": {
     "end_time": "2024-07-29T13:21:51.863973Z",
     "start_time": "2024-07-29T13:18:09.859291Z"
    }
   },
   "source": [
    "import _thread\n",
    "import time \n",
    "\n",
    "def print_time(threadName, delay, iterations): \n",
    "    start = int(time.time())\n",
    "    for i in range(0,iterations):\n",
    "        time.sleep(delay)\n",
    "        seconds_elapsed = str(int(time.time()) - start)\n",
    "        print(f\"{threadName} {time.ctime(time.time())} {seconds_elapsed}\")\n",
    "try:\n",
    "    _thread.start_new_thread(print_time,('Fizz',3,33))\n",
    "    _thread.start_new_thread(print_time,('Buzz',5,20))\n",
    "    _thread.start_new_thread((print_time,('Counter',1,100)))\n",
    "except:\n",
    "    print(\"Error: unable to start thread\")\n",
    "while 1:\n",
    "    pass # \n",
    "    \n",
    "print_time('Counter',1,100)\n"
   ],
   "outputs": [
    {
     "name": "stdout",
     "output_type": "stream",
     "text": [
      "Error: unable to start thread\n",
      "Fizz Mon Jul 29 22:18:12 2024 3\n",
      "Buzz Mon Jul 29 22:18:14 2024 5\n",
      "Fizz Mon Jul 29 22:18:15 2024 6\n",
      "Fizz Mon Jul 29 22:18:19 2024 10\n",
      "Buzz Mon Jul 29 22:18:19 2024 10\n",
      "Fizz Mon Jul 29 22:18:22 2024 13\n",
      "Buzz Mon Jul 29 22:18:24 2024 15\n",
      "Fizz Mon Jul 29 22:18:25 2024 16\n",
      "Fizz Mon Jul 29 22:18:28 2024 19\n",
      "Buzz Mon Jul 29 22:18:30 2024 21\n",
      "Fizz Mon Jul 29 22:18:31 2024 22\n",
      "Fizz Mon Jul 29 22:18:34 2024 25\n",
      "Buzz Mon Jul 29 22:18:35 2024 26\n",
      "Fizz Mon Jul 29 22:18:37 2024 28\n",
      "Buzz Mon Jul 29 22:18:40 2024 31\n",
      "Fizz Mon Jul 29 22:18:40 2024 31\n",
      "Fizz Mon Jul 29 22:18:43 2024 34\n",
      "Buzz Mon Jul 29 22:18:45 2024 36\n",
      "Fizz Mon Jul 29 22:18:46 2024 37\n",
      "Fizz Mon Jul 29 22:18:49 2024 40\n",
      "Buzz Mon Jul 29 22:18:50 2024 41\n",
      "Fizz Mon Jul 29 22:18:52 2024 43\n",
      "Buzz Mon Jul 29 22:18:55 2024 46\n",
      "Fizz Mon Jul 29 22:18:55 2024 46\n",
      "Fizz Mon Jul 29 22:18:58 2024 49\n",
      "Buzz Mon Jul 29 22:19:00 2024 51\n",
      "Fizz Mon Jul 29 22:19:01 2024 52\n",
      "Fizz Mon Jul 29 22:19:04 2024 55\n",
      "Buzz Mon Jul 29 22:19:05 2024 56\n",
      "Fizz Mon Jul 29 22:19:07 2024 58\n",
      "Buzz Mon Jul 29 22:19:10 2024 61\n",
      "Fizz Mon Jul 29 22:19:10 2024 61\n",
      "Fizz Mon Jul 29 22:19:13 2024 64\n",
      "Buzz Mon Jul 29 22:19:15 2024 66\n",
      "Fizz Mon Jul 29 22:19:16 2024 67\n",
      "Fizz Mon Jul 29 22:19:19 2024 70\n",
      "Buzz Mon Jul 29 22:19:20 2024 71\n",
      "Fizz Mon Jul 29 22:19:22 2024 73\n",
      "Buzz Mon Jul 29 22:19:25 2024 76\n",
      "Fizz Mon Jul 29 22:19:25 2024 76\n",
      "Fizz Mon Jul 29 22:19:28 2024 79\n",
      "Buzz Mon Jul 29 22:19:30 2024 81\n",
      "Fizz Mon Jul 29 22:19:31 2024 82\n",
      "Fizz Mon Jul 29 22:19:34 2024 85\n",
      "Buzz Mon Jul 29 22:19:35 2024 86\n",
      "Fizz Mon Jul 29 22:19:38 2024 89\n",
      "Buzz Mon Jul 29 22:19:40 2024 91\n",
      "Fizz Mon Jul 29 22:19:41 2024 92\n",
      "Fizz Mon Jul 29 22:19:44 2024 95\n",
      "Buzz Mon Jul 29 22:19:45 2024 96\n",
      "Fizz Mon Jul 29 22:19:47 2024 98\n",
      "Fizz Mon Jul 29 22:19:50 2024 101\n",
      "Buzz Mon Jul 29 22:19:50 2024 101\n"
     ]
    },
    {
     "ename": "KeyboardInterrupt",
     "evalue": "",
     "output_type": "error",
     "traceback": [
      "\u001B[1;31m---------------------------------------------------------------------------\u001B[0m",
      "\u001B[1;31mKeyboardInterrupt\u001B[0m                         Traceback (most recent call last)",
      "Cell \u001B[1;32mIn[1], line 16\u001B[0m\n\u001B[0;32m     14\u001B[0m \u001B[38;5;28;01mexcept\u001B[39;00m:\n\u001B[0;32m     15\u001B[0m     \u001B[38;5;28mprint\u001B[39m(\u001B[38;5;124m\"\u001B[39m\u001B[38;5;124mError: unable to start thread\u001B[39m\u001B[38;5;124m\"\u001B[39m)\n\u001B[1;32m---> 16\u001B[0m \u001B[38;5;28;01mwhile\u001B[39;00m \u001B[38;5;241m1\u001B[39m:\n\u001B[0;32m     17\u001B[0m     \u001B[38;5;28;01mpass\u001B[39;00m\n\u001B[0;32m     19\u001B[0m print_time(\u001B[38;5;124m'\u001B[39m\u001B[38;5;124mCounter\u001B[39m\u001B[38;5;124m'\u001B[39m,\u001B[38;5;241m1\u001B[39m,\u001B[38;5;241m100\u001B[39m)\n",
      "\u001B[1;31mKeyboardInterrupt\u001B[0m: "
     ]
    }
   ],
   "execution_count": 1
  },
  {
   "metadata": {},
   "cell_type": "markdown",
   "source": [
    "# 보통 크롤링 한 URL 을 다시 크롤링하지 않기 위해 리스트에 저장했었는데,\n",
    "만약 2개쓰레드로 하면퍼센트보장 할 수 없다. (경쟁상태) 이건 디버깅도 안되고 머리아픔\n",
    "\n",
    "## 리스트와 큐 \n",
    "리스트는 효율적으로 읽고, 마지막 항목을 추가하는것이 효율적이지만 임의의 위치에 항목을 추가하는것은 비효율적이다. \n",
    "- 특히 리스트 처음에 추가하는 것은 매우 비효율적이다. \n",
    "- 심지어 끝에 추가하는것 조차도 경쟁상태에 빠질 수 있게해서 안전하지 않다. \n",
    "\n",
    "## 그럼 변수에?? \n",
    "- 변수도 마찬가지로 중간에 (바꿔넣기 전에) 다른 스레드가 바꿔버릴 수도 있음. (안전X) \n",
    "\n",
    "## 큐\n",
    "- 큐는 스레드 간에 안전하게 데이터를 전달하는 방법이다.\n",
    "- (큐의 설계 목적은 정적 데이터를 저장하는 것이 아니라 멀티스레드에서도 안전한 방식으로 데이터를 전송하자는 것이다.)\n",
    "- 중간에 큐가 있고 DB 앞에 쓰레드가(인터페이스)가 대기하면서 큐에 넘어오는 데이터를 받아서 DB에 넣는게효율적임. \n",
    "\n"
   ],
   "id": "d65b1e4fb22d9c27"
  },
  {
   "metadata": {
    "ExecuteTime": {
     "end_time": "2024-07-29T13:53:34.311386Z",
     "start_time": "2024-07-29T13:53:34.306551Z"
    }
   },
   "cell_type": "code",
   "source": "# 그러니 2개의 쓰레드는 크롤링하고 1개는 DB에 저장하되 큐를 사용하면 예외없이 안전하게 데이터를 전달할 수 있다.! ",
   "id": "3ba63f858404888",
   "outputs": [],
   "execution_count": 1
  },
  {
   "metadata": {},
   "cell_type": "markdown",
   "source": [
    "# Threading 모듈 \n",
    "_thread 모듈은 스레드를 미세 조정할 수 있는 저수준 모듈인데, 간편한 고수준 모듈은 제공 X \n",
    "- threading 모듈은 _thread 모듈을 기반으로 만들어졌다. 고수준 , 깨끗하게 사용 할 수 있는 상위 인터페이스\n",
    "- 다른 스레드에서 사용할 수 없는 로컬 스레드 데이터를 쉽게 만들 수 있다. 여러 스레드가 서로 다른 사이트를 스크랩하면서 각각 방문한 페이지 리스트를 관리할 때 유용함.\n",
    "- "
   ],
   "id": "869931c75c318071"
  },
  {
   "metadata": {
    "ExecuteTime": {
     "end_time": "2024-07-29T14:44:26.391690Z",
     "start_time": "2024-07-29T14:44:26.383549Z"
    }
   },
   "cell_type": "code",
   "source": [
    "import threading\n",
    "import time\n",
    "\n",
    "def print_time(threadName, delay , iterations):\n",
    "    start = int(time.time())\n",
    "    for i in range(0, iterations):\n",
    "        time.sleep(delay)\n",
    "        seconds_elapsed = str(int(time.time()) - start)\n",
    "        print('{} {}'.format(seconds_elapsed, threadName))\n",
    "\n",
    "threading.Thread(target=print_time, args = ('Fizz', 3, 33)).start()\n",
    "threading.Thread(target=print_time, args = ('Buzz', 5, 20)).start()\n",
    "threading.Thread(target=print_time, args = ('Counter', 1, 100)).start()\n"
   ],
   "id": "3917d9dad739f161",
   "outputs": [],
   "execution_count": 2
  },
  {
   "metadata": {
    "ExecuteTime": {
     "end_time": "2024-07-29T14:44:28.172926Z",
     "start_time": "2024-07-29T14:44:28.166409Z"
    }
   },
   "cell_type": "code",
   "source": [
    "# - 다른 스레드에서 사용할 수 없는 로컬 스레드 데이터를 쉽게 만들 수 있다. 여러 스레드가 서로 다른 사이트를 스크랩하면서 각각 방문한 페이지 리스트를 관리할 때 유용함.\n",
    "# 이러면 스레드의 공유 객체 간에 발생하는 경쟁 상태 문제를 해결 할 수 있음 (객체를 공유할 필요가 없어지면, 로컬 스레드 메모리로 옮겨야한다. 큐로 가능)\n",
    "def crawler(url):\n",
    "    data = threading.local()\n",
    "    data.visited = []\n",
    "    # 크롤링 코드\n",
    "    \n",
    "threading.Thread(target=crawler, args=('http://www.google.com',)).start()\n",
    "\n",
    "# is_alive() : 스레드가 실행중인지 확인\n",
    "# join() : 스레드가 종료될 때까지 대기\n",
    "# is_Done() : 스레드가 종료되었는지 확인"
   ],
   "id": "112fe7b9119787d2",
   "outputs": [],
   "execution_count": 3
  },
  {
   "metadata": {},
   "cell_type": "code",
   "outputs": [],
   "execution_count": null,
   "source": [
    "threading.Thread(target=crawler)\n",
    "t.start()\n",
    "\n",
    "# 충돌나면 다시 시작하게 가능 \n",
    "while True: \n",
    "    time.sleep(1)\n",
    "    if not t.isAlive():\n",
    "        t = threading.Thread(target=crawler)\n",
    "        t.start()\n"
   ],
   "id": "43899317538bc5f7"
  }
 ],
 "metadata": {
  "kernelspec": {
   "display_name": "Python 3",
   "language": "python",
   "name": "python3"
  },
  "language_info": {
   "codemirror_mode": {
    "name": "ipython",
    "version": 2
   },
   "file_extension": ".py",
   "mimetype": "text/x-python",
   "name": "python",
   "nbconvert_exporter": "python",
   "pygments_lexer": "ipython2",
   "version": "2.7.6"
  }
 },
 "nbformat": 4,
 "nbformat_minor": 5
}
