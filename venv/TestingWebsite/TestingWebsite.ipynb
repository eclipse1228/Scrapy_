{
 "cells": [
  {
   "metadata": {},
   "cell_type": "markdown",
   "source": [
    "# 테스트 스위트를 만들어두자! \n",
    "\n",
    "## ? 단위 테스트와 테스트를 혼동하지 말자\n",
    "대게 테스트를 만들고 있다고 말하면, **단위테스트**를 만들고 있는것이다.\n",
    "\n",
    "\n",
    "### 단위테스트란\n",
    "한 구성요소 기능의 한 가지 측면만 테스트한다. \n",
    "(ex 은행계좌에서 인출할때 액수가 음수이면, 메시지와 함께 에러가 발생하는지 테스트)\n",
    "- 테스트 구성요소에 따라 단위 테스트 같은 클래스에 그룹으로 묶을때도 많다. (음수인출액일때, 해당 계좌에서 어떤 행동을 취하는지 연속해서 테스트)\n",
    "- 각 단위 테스트는 완벽히 독립적이어야 하며, 각 단위 테스트의 시작과 끝은 반드시 그 단위 테스트 자체에서 모두 이루어져야한다. \n",
    "- ! 중요 ! 각 단위 테스트에서는 보통 어썰션이 최소하나 들어간다. 어썰션이란 '단언'이란 뜻이고, \n",
    "- 2+2는 4라고 확정적으로 말하는것이다. 이 어서션은 2 + 2가 4임을 확정적으로 말하고, 조건이 참이면 테스트는 성공적으로 통과합니다. 조건이 거짓이면 테스트는 실패하고 오류가 발생합니다. 가끔 단위 테스트에 실패 상태만 포함될 때도 있습니다. \n",
    "- 예를 들어 예외가 발생하지 않은 상황을 실패상태로 정하면 예외가\n",
    "발생하지 않았을 때는 아무 일도 하지 않고 넘어갈거다.\n",
    "\n",
    "# 파이썬의 unittest 모듈 \n"
   ],
   "id": "e7a7a6d3433975ae"
  },
  {
   "cell_type": "code",
   "id": "initial_id",
   "metadata": {
    "collapsed": true,
    "ExecuteTime": {
     "end_time": "2024-07-29T11:36:25.826081Z",
     "start_time": "2024-07-29T11:36:24.287530Z"
    }
   },
   "source": [
    "# 2+2 = 4\n",
    "\n",
    "import unittest\n",
    "\n",
    "\n",
    "\n",
    "class TestAddition(unittest.TestCase):\n",
    "    # 처음과 끝에서 동작하는 setUp, tearDown 매서드\n",
    "    def setUp(self):\n",
    "        print('Setting up the test')\n",
    "    \n",
    "    def tearDown(self):\n",
    "        print('Tearing down the test')\n",
    "    # test_ 로 시작하는 모든 함수를 단위 테스트로 실행하고 이 전치사가 없는 함수는 무시 \n",
    "    def test_twoPlusTwo(self):\n",
    "        total = 2 + 2\n",
    "        self.assertEqual(4, total)\n",
    "\n",
    "# 이건 파이썬에서 테스트를 실행하는 표준방법이다.\n",
    "# if __name__ == '__main__':\n",
    "#     unittest.main()\n",
    "\n",
    "if __name__ == '__main__':\n",
    "    unittest.main(argv=[''], exit=False)\n",
    "    %reset # 꼭 리셋해야 TestCase를 상속하는 메서드를 메모리에서 비울 수 있다.(파이썬을 종료 안 시키는 설정때문에)\n"
   ],
   "outputs": [
    {
     "name": "stderr",
     "output_type": "stream",
     "text": [
      ".\n",
      "----------------------------------------------------------------------\n",
      "Ran 1 test in 0.001s\n",
      "\n",
      "OK\n"
     ]
    },
    {
     "name": "stdout",
     "output_type": "stream",
     "text": [
      "Setting up the test\n",
      "Tearing down the test\n",
      "Nothing done.\n"
     ]
    }
   ],
   "execution_count": 4
  },
  {
   "metadata": {},
   "cell_type": "markdown",
   "source": "## 위키백과 테스트",
   "id": "9374bae8886ef433"
  },
  {
   "metadata": {
    "ExecuteTime": {
     "end_time": "2024-07-29T11:40:58.141687Z",
     "start_time": "2024-07-29T11:40:56.295940Z"
    }
   },
   "cell_type": "code",
   "source": [
    "from urllib.request import urlopen\n",
    "from bs4 import BeautifulSoup\n",
    "import unittest\n",
    "\n",
    "class TestWikipedia(unittest.TestCase):\n",
    "    bs = None\n",
    "    \n",
    "    # 매 테스트마다 실행되는 setUp과 달리 클래스를 시작할때 단 한번 실행된다. (즉 페이지를 한 번만 불러와서 여러 테스트를 실행한다.)\n",
    "    # setUpClass 는 클래스 자체에 속하는 static 매서드이다. 전역 클래스 변수를 갖고 setUp은 클래스의 인스턴스에 속하는 인스턴스 함수라는 차이가 있다.\n",
    "    def setUpClass():\n",
    "        url = 'http://en.wikipedia.org/wiki/Monty_Python'\n",
    "        TestWikipedia.bs = BeautifulSoup(urlopen(url), 'html.parser')\n",
    "\n",
    "    def test_titleText(self):\n",
    "        pageTitle = TestWikipedia.bs.find('h1').get_text()\n",
    "        self.assertEqual('Monty Python', pageTitle);\n",
    "\n",
    "    def test_contentExists(self):\n",
    "        content = TestWikipedia.bs.find('div',{'id':'mw-content-text'})\n",
    "        self.assertIsNotNone(content)\n",
    "\n",
    "\n",
    "if __name__ == '__main__':\n",
    "    unittest.main(argv=[''], exit=False)\n",
    "    %reset"
   ],
   "id": "c14af015ad4d9ae1",
   "outputs": [
    {
     "name": "stderr",
     "output_type": "stream",
     "text": [
      "."
     ]
    },
    {
     "name": "stdout",
     "output_type": "stream",
     "text": [
      "Setting up the test\n",
      "Tearing down the test\n"
     ]
    },
    {
     "name": "stderr",
     "output_type": "stream",
     "text": [
      "..\n",
      "----------------------------------------------------------------------\n",
      "Ran 3 tests in 1.053s\n",
      "\n",
      "OK\n"
     ]
    },
    {
     "name": "stdout",
     "output_type": "stream",
     "text": [
      "Nothing done.\n"
     ]
    }
   ],
   "execution_count": 8
  },
  {
   "metadata": {},
   "cell_type": "markdown",
   "source": [
    "## static method (파이썬에서는 class Method라고 하네) 와 인스턴스 매서드 확실히 구분하세요\n",
    " setUpClass(class method)와 setUp(instance method)의 차이를 확실히 알아두세요.\n",
    " "
   ],
   "id": "b372b185886a27c4"
  },
  {
   "metadata": {
    "ExecuteTime": {
     "end_time": "2024-07-29T12:18:11.395022Z",
     "start_time": "2024-07-29T12:17:52.354989Z"
    }
   },
   "cell_type": "code",
   "source": [
    "# 각 페이지마다 어썰션 실행하는 단위 테스트\n",
    "from urllib.request import urlopen\n",
    "from bs4 import BeautifulSoup\n",
    "import unittest\n",
    "import re\n",
    "import random\n",
    "from urllib.parse import unquote\n",
    "\n",
    "class TestWikipedia(unittest.TestCase):\n",
    "\n",
    "    def test_PageProperties(self):\n",
    "        self.url = 'http://en.wikipedia.org/wiki/Monty_Python'\n",
    "        #Test the first 10 pages we encounter\n",
    "        for i in range(1, 10):\n",
    "            self.bs = BeautifulSoup(urlopen(self.url), 'html.parser')\n",
    "            titles = self.titleMatchesURL()\n",
    "            self.assertEqual(titles[0], titles[1])\n",
    "            self.assertTrue(self.contentExists())\n",
    "            self.url = self.getNextLink()\n",
    "        print('Done!')\n",
    "\n",
    "    def titleMatchesURL(self):\n",
    "        pageTitle = self.bs.find('h1').get_text()\n",
    "        urlTitle = self.url[(self.url.index('/wiki/')+6):]\n",
    "        urlTitle = urlTitle.replace('_', ' ')\n",
    "        urlTitle = unquote(urlTitle)\n",
    "        return [pageTitle.lower(), urlTitle.lower()]\n",
    "\n",
    "    def contentExists(self):\n",
    "        content = self.bs.find('div',{'id':'mw-content-text'})\n",
    "        if content is not None:\n",
    "            return True\n",
    "        return False\n",
    "\n",
    "    def getNextLink(self):\n",
    "        # Returns random link on page, using technique from Chapter 3\n",
    "        links = self.bs.find('div', {'id':'bodyContent'}).find_all('a', href=re.compile('^(/wiki/)((?!:).)*$'))\n",
    "        randomLink = random.SystemRandom().choice(links)\n",
    "        return f'https://wikipedia.org{randomLink.attrs[\"href\"]}'\n",
    "\n",
    "\n",
    "if __name__ == '__main__':\n",
    "    unittest.main(argv=[''], exit=False)\n",
    "    %reset"
   ],
   "id": "732e2631020d7a63",
   "outputs": [
    {
     "name": "stderr",
     "output_type": "stream",
     "text": [
      "."
     ]
    },
    {
     "name": "stdout",
     "output_type": "stream",
     "text": [
      "Setting up the test\n",
      "Tearing down the test\n"
     ]
    },
    {
     "name": "stderr",
     "output_type": "stream",
     "text": [
      ".\n",
      "----------------------------------------------------------------------\n",
      "Ran 2 tests in 17.167s\n",
      "\n",
      "OK\n"
     ]
    },
    {
     "name": "stdout",
     "output_type": "stream",
     "text": [
      "Done!\n",
      "Nothing done.\n"
     ]
    }
   ],
   "execution_count": 9
  },
  {
   "metadata": {},
   "cell_type": "markdown",
   "source": [
    "# Selenium을 이용한 웹테스트\n",
    "## 문법이 많이 다르다. \n",
    "셀레니움 단위 테스트는 클래스 안에 함수로 저장하지 않아도 됩니다. \n"
   ],
   "id": "7775b5651b17c6fa"
  },
  {
   "metadata": {
    "ExecuteTime": {
     "end_time": "2024-07-29T12:40:37.755130Z",
     "start_time": "2024-07-29T12:40:27.132367Z"
    }
   },
   "cell_type": "code",
   "source": [
    "from selenium import webdriver\n",
    "import chromedriver_autoinstaller \n",
    "\n",
    "chromedriver_autoinstaller.install() # 크롬드라이버 자동 설치\n",
    "options = webdriver.ChromeOptions()\n",
    "options.add_argument('headless')\n",
    "driver = webdriver.Chrome(options=options)\n",
    "driver.get('http://www.google.com')\n",
    "# 괄호 필요없고, assert를 사용하여 테스트를 실행한다.\n",
    "assert \"Monty Python\" in driver.title\n",
    "driver.close()\n"
   ],
   "id": "37a070da4bba3e51",
   "outputs": [
    {
     "ename": "AssertionError",
     "evalue": "",
     "output_type": "error",
     "traceback": [
      "\u001B[1;31m---------------------------------------------------------------------------\u001B[0m",
      "\u001B[1;31mAssertionError\u001B[0m                            Traceback (most recent call last)",
      "Cell \u001B[1;32mIn[11], line 9\u001B[0m\n\u001B[0;32m      7\u001B[0m driver \u001B[38;5;241m=\u001B[39m webdriver\u001B[38;5;241m.\u001B[39mChrome(options\u001B[38;5;241m=\u001B[39moptions)\n\u001B[0;32m      8\u001B[0m driver\u001B[38;5;241m.\u001B[39mget(\u001B[38;5;124m'\u001B[39m\u001B[38;5;124mhttp://www.google.com\u001B[39m\u001B[38;5;124m'\u001B[39m)\n\u001B[1;32m----> 9\u001B[0m \u001B[38;5;28;01massert\u001B[39;00m \u001B[38;5;124m\"\u001B[39m\u001B[38;5;124mMonty Python\u001B[39m\u001B[38;5;124m\"\u001B[39m \u001B[38;5;129;01min\u001B[39;00m driver\u001B[38;5;241m.\u001B[39mtitle\n\u001B[0;32m     10\u001B[0m driver\u001B[38;5;241m.\u001B[39mclose()\n",
      "\u001B[1;31mAssertionError\u001B[0m: "
     ]
    }
   ],
   "execution_count": 11
  },
  {
   "metadata": {},
   "cell_type": "markdown",
   "source": "## 근데 이 폼의 기능이 동작한다는 보장이 있나?? 폼의 기능을 테스트하고 브라우저에서 동작하는지 확인하려면?? \n",
   "id": "7a23b0b3d70f9668"
  },
  {
   "metadata": {},
   "cell_type": "code",
   "outputs": [],
   "execution_count": null,
   "source": [
    "# 객체가 반환됨 \n",
    "usernameField = driver.find_element(By.NAME, 'username')\n",
    "\n",
    "# 셀레니움도 요소에 다양한 행동을 취할 수 있음.\n",
    "\n",
    "myElement.click()\n",
    "myElement.click_and_hold()\n",
    "myElement.release()\n",
    "myElement.double_click()\n",
    "myElement.send_keys_to_element('Hello, World!')\n"
   ],
   "id": "c23f7289a1a9358c"
  },
  {
   "metadata": {},
   "cell_type": "markdown",
   "source": "이러한 행동을 하나의 체인으로 묶어서 저장하고 원하는 만큼 실행시키기 가능. (action chain)\n",
   "id": "5424bb544f3ca84d"
  },
  {
   "metadata": {
    "ExecuteTime": {
     "end_time": "2024-07-29T12:56:13.321955Z",
     "start_time": "2024-07-29T12:56:06.921164Z"
    }
   },
   "cell_type": "code",
   "source": [
    "from prompt_toolkit.keys import Keys\n",
    "from selenium.webdriver.common.by import By\n",
    "from selenium.webdriver import ActionChains\n",
    "import chromedriver_autoinstaller\n",
    "from selenium import webdriver\n",
    "\n",
    "chromedriver_autoinstaller.install()\n",
    "\n",
    "options = webdriver.ChromeOptions()\n",
    "options.add_argument('headless')\n",
    "driver = webdriver.Chrome(options=options)\n",
    "driver.get('http://pythonscraping.com/pages/files/form.html')\n",
    "\n",
    "firstnameField = driver.find_element(By.NAME, 'firstname')\n",
    "lastnameField = driver.find_element(By.NAME, 'lastname')\n",
    "submitButton = driver.find_element(By.ID, 'submit')\n",
    "\n",
    "# 방법 1\n",
    "# firstnameField.send_keys('Ryan')\n",
    "# lastnameField.send_keys('Mitchell')\n",
    "# submitButton.click()\n",
    "# ##\n",
    "# 방법 2\n",
    "actions = ActionChains(driver).click(firstnameField).send_keys('Ryan').click(lastnameField).send_keys('Mitchell').send_keys(Keys.RETURN)\n",
    "actions.perform() # perform()을 호출했을때 차례로 일어난다.  두번째 방법은 엔터를 누른거임 ( 첫번째 방법은 버튼을 클릭한거고 ) \n",
    "## \n",
    "print(driver.find_element(By.TAG_NAME, 'body').text)\\\n",
    "\n",
    "driver.close()"
   ],
   "id": "23323591b5395cba",
   "outputs": [
    {
     "ename": "AttributeError",
     "evalue": "RETURN",
     "output_type": "error",
     "traceback": [
      "\u001B[1;31m---------------------------------------------------------------------------\u001B[0m",
      "\u001B[1;31mAttributeError\u001B[0m                            Traceback (most recent call last)",
      "Cell \u001B[1;32mIn[14], line 24\u001B[0m\n\u001B[0;32m     16\u001B[0m submitButton \u001B[38;5;241m=\u001B[39m driver\u001B[38;5;241m.\u001B[39mfind_element(By\u001B[38;5;241m.\u001B[39mID, \u001B[38;5;124m'\u001B[39m\u001B[38;5;124msubmit\u001B[39m\u001B[38;5;124m'\u001B[39m)\n\u001B[0;32m     18\u001B[0m \u001B[38;5;66;03m# 방법 1\u001B[39;00m\n\u001B[0;32m     19\u001B[0m \u001B[38;5;66;03m# firstnameField.send_keys('Ryan')\u001B[39;00m\n\u001B[0;32m     20\u001B[0m \u001B[38;5;66;03m# lastnameField.send_keys('Mitchell')\u001B[39;00m\n\u001B[0;32m     21\u001B[0m \u001B[38;5;66;03m# submitButton.click()\u001B[39;00m\n\u001B[0;32m     22\u001B[0m \u001B[38;5;66;03m# ##\u001B[39;00m\n\u001B[0;32m     23\u001B[0m \u001B[38;5;66;03m# 방법 2\u001B[39;00m\n\u001B[1;32m---> 24\u001B[0m actions \u001B[38;5;241m=\u001B[39m ActionChains(driver)\u001B[38;5;241m.\u001B[39mclick(firstnameField)\u001B[38;5;241m.\u001B[39msend_keys(\u001B[38;5;124m'\u001B[39m\u001B[38;5;124mRyan\u001B[39m\u001B[38;5;124m'\u001B[39m)\u001B[38;5;241m.\u001B[39mclick(lastnameField)\u001B[38;5;241m.\u001B[39msend_keys(\u001B[38;5;124m'\u001B[39m\u001B[38;5;124mMitchell\u001B[39m\u001B[38;5;124m'\u001B[39m)\u001B[38;5;241m.\u001B[39msend_keys(\u001B[43mKeys\u001B[49m\u001B[38;5;241;43m.\u001B[39;49m\u001B[43mRETURN\u001B[49m)\n\u001B[0;32m     25\u001B[0m actions\u001B[38;5;241m.\u001B[39mperform()\n\u001B[0;32m     26\u001B[0m \u001B[38;5;66;03m## \u001B[39;00m\n",
      "File \u001B[1;32mC:\\Program Files\\WindowsApps\\PythonSoftwareFoundation.Python.3.11_3.11.2544.0_x64__qbz5n2kfra8p0\\Lib\\enum.py:786\u001B[0m, in \u001B[0;36mEnumType.__getattr__\u001B[1;34m(cls, name)\u001B[0m\n\u001B[0;32m    784\u001B[0m     \u001B[38;5;28;01mreturn\u001B[39;00m \u001B[38;5;28mcls\u001B[39m\u001B[38;5;241m.\u001B[39m_member_map_[name]\n\u001B[0;32m    785\u001B[0m \u001B[38;5;28;01mexcept\u001B[39;00m \u001B[38;5;167;01mKeyError\u001B[39;00m:\n\u001B[1;32m--> 786\u001B[0m     \u001B[38;5;28;01mraise\u001B[39;00m \u001B[38;5;167;01mAttributeError\u001B[39;00m(name) \u001B[38;5;28;01mfrom\u001B[39;00m \u001B[38;5;28;01mNone\u001B[39;00m\n",
      "\u001B[1;31mAttributeError\u001B[0m: RETURN"
     ]
    }
   ],
   "execution_count": 14
  },
  {
   "metadata": {},
   "cell_type": "markdown",
   "source": "## 드래그 앤 드롭까지 가능 ㄷㄷ \n",
   "id": "d17af5a03353fd68"
  },
  {
   "metadata": {},
   "cell_type": "code",
   "outputs": [],
   "execution_count": null,
   "source": [
    "from selenium import webdriver\n",
    "from selenium.webdriver import ActionChains\n",
    "from selenium.webdriver.chrome.options import Options\n",
    "from selenium.webdriver.common.by import By\n",
    "from selenium.webdriver.chrome.service import Service\n",
    "import unittest\n",
    "\n",
    "\n",
    "class TestDragAndDrop(unittest.TestCase):\n",
    "    driver = None\n",
    "\n",
    "    def setUp(self):\n",
    "        chrome_options = Options()\n",
    "        chrome_options.add_argument(\"--headless\")\n",
    "        self.driver = webdriver.Chrome(service=Service(CHROMEDRIVER_PATH), options=chrome_options)\n",
    "        url = 'http://pythonscraping.com/pages/javascript/draggableDemo.html'\n",
    "        self.driver.get(url)\n",
    "\n",
    "    def tearDown(self):\n",
    "        self.driver.close()\n",
    "\n",
    "    def test_drag(self):\n",
    "        element = self.driver.find_element(By.ID, 'draggable')\n",
    "        target = self.driver.find_element(By.ID, 'div2')\n",
    "        actions = ActionChains(self.driver)\n",
    "        actions.drag_and_drop(element, target).perform()\n",
    "        self.assertEqual('You are definitely not a bot!', self.driver.find_element(By.ID, 'message').text)\n",
    "\n",
    "if __name__ == '__main__':\n",
    "    unittest.main(argv=[''], exit=False)\n",
    "    %reset"
   ],
   "id": "2ea678235a745a39"
  },
  {
   "metadata": {},
   "cell_type": "markdown",
   "source": [
    "## 스크린샷 찍기 \n",
    "감동이네 감동 \n"
   ],
   "id": "1d25b12c4c3db67"
  },
  {
   "metadata": {
    "ExecuteTime": {
     "end_time": "2024-07-29T13:00:51.426937Z",
     "start_time": "2024-07-29T13:00:42.803264Z"
    }
   },
   "cell_type": "code",
   "source": [
    "from selenium import webdriver\n",
    "\n",
    "options = webdriver.ChromeOptions()\n",
    "options.add_argument('headless')\n",
    "driver = webdriver.Chrome(options=options)\n",
    "\n",
    "driver.get('http://www.pythonscraping.com/')\n",
    "driver.get_screenshot_as_file('./pythonscraping.png')\n"
   ],
   "id": "231d5e4af56454d2",
   "outputs": [
    {
     "data": {
      "text/plain": [
       "True"
      ]
     },
     "execution_count": 16,
     "metadata": {},
     "output_type": "execute_result"
    }
   ],
   "execution_count": 16
  },
  {
   "metadata": {},
   "cell_type": "markdown",
   "source": "# 그래서 unittest vs selenium \n",
   "id": "66e2cdf4b338df66"
  },
  {
   "metadata": {},
   "cell_type": "code",
   "outputs": [],
   "execution_count": null,
   "source": "",
   "id": "c33e49fd43bf9d4"
  }
 ],
 "metadata": {
  "kernelspec": {
   "display_name": "Python 3",
   "language": "python",
   "name": "python3"
  },
  "language_info": {
   "codemirror_mode": {
    "name": "ipython",
    "version": 2
   },
   "file_extension": ".py",
   "mimetype": "text/x-python",
   "name": "python",
   "nbconvert_exporter": "python",
   "pygments_lexer": "ipython2",
   "version": "2.7.6"
  }
 },
 "nbformat": 4,
 "nbformat_minor": 5
}
