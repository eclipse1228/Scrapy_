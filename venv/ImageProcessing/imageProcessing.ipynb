{
 "cells": [
  {
   "metadata": {},
   "cell_type": "markdown",
   "source": [
    "# 필로와 테서렉트 (해당 이미지 처리는.. 잠시 보류) (로그인 폼 뚫을 일이 아직 없기도 하고.)\n",
    "## 필로\n",
    "- 이미지 조작, 픽셀 단위 변형도 가능\n",
    "\n",
    "## 테서렉트\n",
    "- OCR 라이브러리이다.\n",
    "- 폰트가 일관적이기만 하면 숫자에 제한 없이 그 폰트를 인식하도록 훈련할 수 있다. \n",
    "- 사용한 파이테서렉트 (서드파티 파이썬 래퍼)"
   ],
   "id": "27bd2bd026edc674"
  },
  {
   "cell_type": "code",
   "id": "initial_id",
   "metadata": {
    "collapsed": true,
    "ExecuteTime": {
     "end_time": "2024-07-29T06:37:35.187569Z",
     "start_time": "2024-07-29T06:37:26.812631Z"
    }
   },
   "source": [
    "#  pip install pillow\n",
    "# 블러 처리하기~\n",
    "from PIL import Image, ImageFilter\n",
    "\n",
    "kitten = Image.open(\"me3.png\")\n",
    "blurryKitten = kitten.filter(ImageFilter.GaussianBlur)\n",
    "blurryKitten.save(\"kitten_blurred.png\")\n",
    "blurryKitten.show()\n"
   ],
   "outputs": [],
   "execution_count": 3
  },
  {
   "metadata": {
    "ExecuteTime": {
     "end_time": "2024-07-29T06:50:11.369962Z",
     "start_time": "2024-07-29T06:50:11.213290Z"
    }
   },
   "cell_type": "code",
   "source": [
    "## 테서렉트\n",
    "from PIL import Image\n",
    "import pytesseract\n",
    "pytesseract.pytesseract.tesseract_cmd = 'C:/tesseract-3.02.02-win32-lib-include-dirs/include/tesseract'\n",
    "print(pytesseract.image_to_string(Image.open('./me3.png')))"
   ],
   "id": "1004482fe2003249",
   "outputs": [
    {
     "ename": "PermissionError",
     "evalue": "[WinError 5] 액세스가 거부되었습니다",
     "output_type": "error",
     "traceback": [
      "\u001B[1;31m---------------------------------------------------------------------------\u001B[0m",
      "\u001B[1;31mPermissionError\u001B[0m                           Traceback (most recent call last)",
      "Cell \u001B[1;32mIn[8], line 5\u001B[0m\n\u001B[0;32m      3\u001B[0m \u001B[38;5;28;01mimport\u001B[39;00m \u001B[38;5;21;01mpytesseract\u001B[39;00m\n\u001B[0;32m      4\u001B[0m pytesseract\u001B[38;5;241m.\u001B[39mpytesseract\u001B[38;5;241m.\u001B[39mtesseract_cmd \u001B[38;5;241m=\u001B[39m \u001B[38;5;124m'\u001B[39m\u001B[38;5;124mC:/tesseract-3.02.02-win32-lib-include-dirs/include/tesseract\u001B[39m\u001B[38;5;124m'\u001B[39m\n\u001B[1;32m----> 5\u001B[0m \u001B[38;5;28mprint\u001B[39m(\u001B[43mpytesseract\u001B[49m\u001B[38;5;241;43m.\u001B[39;49m\u001B[43mimage_to_string\u001B[49m\u001B[43m(\u001B[49m\u001B[43mImage\u001B[49m\u001B[38;5;241;43m.\u001B[39;49m\u001B[43mopen\u001B[49m\u001B[43m(\u001B[49m\u001B[38;5;124;43m'\u001B[39;49m\u001B[38;5;124;43m./me3.png\u001B[39;49m\u001B[38;5;124;43m'\u001B[39;49m\u001B[43m)\u001B[49m\u001B[43m)\u001B[49m)\n",
      "File \u001B[1;32m~\\AppData\\Local\\Packages\\PythonSoftwareFoundation.Python.3.11_qbz5n2kfra8p0\\LocalCache\\local-packages\\Python311\\site-packages\\pytesseract\\pytesseract.py:189\u001B[0m, in \u001B[0;36mimage_to_string\u001B[1;34m(image, lang, config, nice, boxes, output_type)\u001B[0m\n\u001B[0;32m    186\u001B[0m \u001B[38;5;28;01melif\u001B[39;00m output_type \u001B[38;5;241m==\u001B[39m Output\u001B[38;5;241m.\u001B[39mBYTES:\n\u001B[0;32m    187\u001B[0m     \u001B[38;5;28;01mreturn\u001B[39;00m run_and_get_output(image, \u001B[38;5;124m'\u001B[39m\u001B[38;5;124mtxt\u001B[39m\u001B[38;5;124m'\u001B[39m, lang, config, nice, \u001B[38;5;28;01mTrue\u001B[39;00m)\n\u001B[1;32m--> 189\u001B[0m \u001B[38;5;28;01mreturn\u001B[39;00m \u001B[43mrun_and_get_output\u001B[49m\u001B[43m(\u001B[49m\u001B[43mimage\u001B[49m\u001B[43m,\u001B[49m\u001B[43m \u001B[49m\u001B[38;5;124;43m'\u001B[39;49m\u001B[38;5;124;43mtxt\u001B[39;49m\u001B[38;5;124;43m'\u001B[39;49m\u001B[43m,\u001B[49m\u001B[43m \u001B[49m\u001B[43mlang\u001B[49m\u001B[43m,\u001B[49m\u001B[43m \u001B[49m\u001B[43mconfig\u001B[49m\u001B[43m,\u001B[49m\u001B[43m \u001B[49m\u001B[43mnice\u001B[49m\u001B[43m)\u001B[49m\n",
      "File \u001B[1;32m~\\AppData\\Local\\Packages\\PythonSoftwareFoundation.Python.3.11_qbz5n2kfra8p0\\LocalCache\\local-packages\\Python311\\site-packages\\pytesseract\\pytesseract.py:136\u001B[0m, in \u001B[0;36mrun_and_get_output\u001B[1;34m(image, extension, lang, config, nice, return_bytes)\u001B[0m\n\u001B[0;32m    126\u001B[0m temp_name, img_extention \u001B[38;5;241m=\u001B[39m save_image(image)\n\u001B[0;32m    127\u001B[0m kwargs \u001B[38;5;241m=\u001B[39m {\n\u001B[0;32m    128\u001B[0m     \u001B[38;5;124m'\u001B[39m\u001B[38;5;124minput_filename\u001B[39m\u001B[38;5;124m'\u001B[39m: temp_name \u001B[38;5;241m+\u001B[39m os\u001B[38;5;241m.\u001B[39mextsep \u001B[38;5;241m+\u001B[39m img_extention,\n\u001B[0;32m    129\u001B[0m     \u001B[38;5;124m'\u001B[39m\u001B[38;5;124moutput_filename_base\u001B[39m\u001B[38;5;124m'\u001B[39m: temp_name \u001B[38;5;241m+\u001B[39m \u001B[38;5;124m'\u001B[39m\u001B[38;5;124m_out\u001B[39m\u001B[38;5;124m'\u001B[39m,\n\u001B[1;32m   (...)\u001B[0m\n\u001B[0;32m    133\u001B[0m     \u001B[38;5;124m'\u001B[39m\u001B[38;5;124mnice\u001B[39m\u001B[38;5;124m'\u001B[39m: nice\n\u001B[0;32m    134\u001B[0m }\n\u001B[1;32m--> 136\u001B[0m \u001B[43mrun_tesseract\u001B[49m\u001B[43m(\u001B[49m\u001B[38;5;241;43m*\u001B[39;49m\u001B[38;5;241;43m*\u001B[39;49m\u001B[43mkwargs\u001B[49m\u001B[43m)\u001B[49m\n\u001B[0;32m    137\u001B[0m filename \u001B[38;5;241m=\u001B[39m kwargs[\u001B[38;5;124m'\u001B[39m\u001B[38;5;124moutput_filename_base\u001B[39m\u001B[38;5;124m'\u001B[39m] \u001B[38;5;241m+\u001B[39m os\u001B[38;5;241m.\u001B[39mextsep \u001B[38;5;241m+\u001B[39m extension\n\u001B[0;32m    138\u001B[0m \u001B[38;5;28;01mwith\u001B[39;00m \u001B[38;5;28mopen\u001B[39m(filename, \u001B[38;5;124m'\u001B[39m\u001B[38;5;124mrb\u001B[39m\u001B[38;5;124m'\u001B[39m) \u001B[38;5;28;01mas\u001B[39;00m output_file:\n",
      "File \u001B[1;32m~\\AppData\\Local\\Packages\\PythonSoftwareFoundation.Python.3.11_qbz5n2kfra8p0\\LocalCache\\local-packages\\Python311\\site-packages\\pytesseract\\pytesseract.py:107\u001B[0m, in \u001B[0;36mrun_tesseract\u001B[1;34m(input_filename, output_filename_base, extension, lang, config, nice)\u001B[0m\n\u001B[0;32m    104\u001B[0m \u001B[38;5;28;01mif\u001B[39;00m extension \u001B[38;5;241m!=\u001B[39m \u001B[38;5;124m'\u001B[39m\u001B[38;5;124mbox\u001B[39m\u001B[38;5;124m'\u001B[39m:\n\u001B[0;32m    105\u001B[0m     command\u001B[38;5;241m.\u001B[39mappend(extension)\n\u001B[1;32m--> 107\u001B[0m proc \u001B[38;5;241m=\u001B[39m \u001B[43msubprocess\u001B[49m\u001B[38;5;241;43m.\u001B[39;49m\u001B[43mPopen\u001B[49m\u001B[43m(\u001B[49m\u001B[43mcommand\u001B[49m\u001B[43m,\u001B[49m\u001B[43m \u001B[49m\u001B[43mstderr\u001B[49m\u001B[38;5;241;43m=\u001B[39;49m\u001B[43msubprocess\u001B[49m\u001B[38;5;241;43m.\u001B[39;49m\u001B[43mPIPE\u001B[49m\u001B[43m)\u001B[49m\n\u001B[0;32m    108\u001B[0m status_code, error_string \u001B[38;5;241m=\u001B[39m proc\u001B[38;5;241m.\u001B[39mwait(), proc\u001B[38;5;241m.\u001B[39mstderr\u001B[38;5;241m.\u001B[39mread()\n\u001B[0;32m    109\u001B[0m proc\u001B[38;5;241m.\u001B[39mstderr\u001B[38;5;241m.\u001B[39mclose()\n",
      "File \u001B[1;32mC:\\Program Files\\WindowsApps\\PythonSoftwareFoundation.Python.3.11_3.11.2544.0_x64__qbz5n2kfra8p0\\Lib\\subprocess.py:1026\u001B[0m, in \u001B[0;36mPopen.__init__\u001B[1;34m(self, args, bufsize, executable, stdin, stdout, stderr, preexec_fn, close_fds, shell, cwd, env, universal_newlines, startupinfo, creationflags, restore_signals, start_new_session, pass_fds, user, group, extra_groups, encoding, errors, text, umask, pipesize, process_group)\u001B[0m\n\u001B[0;32m   1022\u001B[0m         \u001B[38;5;28;01mif\u001B[39;00m \u001B[38;5;28mself\u001B[39m\u001B[38;5;241m.\u001B[39mtext_mode:\n\u001B[0;32m   1023\u001B[0m             \u001B[38;5;28mself\u001B[39m\u001B[38;5;241m.\u001B[39mstderr \u001B[38;5;241m=\u001B[39m io\u001B[38;5;241m.\u001B[39mTextIOWrapper(\u001B[38;5;28mself\u001B[39m\u001B[38;5;241m.\u001B[39mstderr,\n\u001B[0;32m   1024\u001B[0m                     encoding\u001B[38;5;241m=\u001B[39mencoding, errors\u001B[38;5;241m=\u001B[39merrors)\n\u001B[1;32m-> 1026\u001B[0m     \u001B[38;5;28;43mself\u001B[39;49m\u001B[38;5;241;43m.\u001B[39;49m\u001B[43m_execute_child\u001B[49m\u001B[43m(\u001B[49m\u001B[43margs\u001B[49m\u001B[43m,\u001B[49m\u001B[43m \u001B[49m\u001B[43mexecutable\u001B[49m\u001B[43m,\u001B[49m\u001B[43m \u001B[49m\u001B[43mpreexec_fn\u001B[49m\u001B[43m,\u001B[49m\u001B[43m \u001B[49m\u001B[43mclose_fds\u001B[49m\u001B[43m,\u001B[49m\n\u001B[0;32m   1027\u001B[0m \u001B[43m                        \u001B[49m\u001B[43mpass_fds\u001B[49m\u001B[43m,\u001B[49m\u001B[43m \u001B[49m\u001B[43mcwd\u001B[49m\u001B[43m,\u001B[49m\u001B[43m \u001B[49m\u001B[43menv\u001B[49m\u001B[43m,\u001B[49m\n\u001B[0;32m   1028\u001B[0m \u001B[43m                        \u001B[49m\u001B[43mstartupinfo\u001B[49m\u001B[43m,\u001B[49m\u001B[43m \u001B[49m\u001B[43mcreationflags\u001B[49m\u001B[43m,\u001B[49m\u001B[43m \u001B[49m\u001B[43mshell\u001B[49m\u001B[43m,\u001B[49m\n\u001B[0;32m   1029\u001B[0m \u001B[43m                        \u001B[49m\u001B[43mp2cread\u001B[49m\u001B[43m,\u001B[49m\u001B[43m \u001B[49m\u001B[43mp2cwrite\u001B[49m\u001B[43m,\u001B[49m\n\u001B[0;32m   1030\u001B[0m \u001B[43m                        \u001B[49m\u001B[43mc2pread\u001B[49m\u001B[43m,\u001B[49m\u001B[43m \u001B[49m\u001B[43mc2pwrite\u001B[49m\u001B[43m,\u001B[49m\n\u001B[0;32m   1031\u001B[0m \u001B[43m                        \u001B[49m\u001B[43merrread\u001B[49m\u001B[43m,\u001B[49m\u001B[43m \u001B[49m\u001B[43merrwrite\u001B[49m\u001B[43m,\u001B[49m\n\u001B[0;32m   1032\u001B[0m \u001B[43m                        \u001B[49m\u001B[43mrestore_signals\u001B[49m\u001B[43m,\u001B[49m\n\u001B[0;32m   1033\u001B[0m \u001B[43m                        \u001B[49m\u001B[43mgid\u001B[49m\u001B[43m,\u001B[49m\u001B[43m \u001B[49m\u001B[43mgids\u001B[49m\u001B[43m,\u001B[49m\u001B[43m \u001B[49m\u001B[43muid\u001B[49m\u001B[43m,\u001B[49m\u001B[43m \u001B[49m\u001B[43mumask\u001B[49m\u001B[43m,\u001B[49m\n\u001B[0;32m   1034\u001B[0m \u001B[43m                        \u001B[49m\u001B[43mstart_new_session\u001B[49m\u001B[43m,\u001B[49m\u001B[43m \u001B[49m\u001B[43mprocess_group\u001B[49m\u001B[43m)\u001B[49m\n\u001B[0;32m   1035\u001B[0m \u001B[38;5;28;01mexcept\u001B[39;00m:\n\u001B[0;32m   1036\u001B[0m     \u001B[38;5;66;03m# Cleanup if the child failed starting.\u001B[39;00m\n\u001B[0;32m   1037\u001B[0m     \u001B[38;5;28;01mfor\u001B[39;00m f \u001B[38;5;129;01min\u001B[39;00m \u001B[38;5;28mfilter\u001B[39m(\u001B[38;5;28;01mNone\u001B[39;00m, (\u001B[38;5;28mself\u001B[39m\u001B[38;5;241m.\u001B[39mstdin, \u001B[38;5;28mself\u001B[39m\u001B[38;5;241m.\u001B[39mstdout, \u001B[38;5;28mself\u001B[39m\u001B[38;5;241m.\u001B[39mstderr)):\n",
      "File \u001B[1;32mC:\\Program Files\\WindowsApps\\PythonSoftwareFoundation.Python.3.11_3.11.2544.0_x64__qbz5n2kfra8p0\\Lib\\subprocess.py:1538\u001B[0m, in \u001B[0;36mPopen._execute_child\u001B[1;34m(self, args, executable, preexec_fn, close_fds, pass_fds, cwd, env, startupinfo, creationflags, shell, p2cread, p2cwrite, c2pread, c2pwrite, errread, errwrite, unused_restore_signals, unused_gid, unused_gids, unused_uid, unused_umask, unused_start_new_session, unused_process_group)\u001B[0m\n\u001B[0;32m   1536\u001B[0m \u001B[38;5;66;03m# Start the process\u001B[39;00m\n\u001B[0;32m   1537\u001B[0m \u001B[38;5;28;01mtry\u001B[39;00m:\n\u001B[1;32m-> 1538\u001B[0m     hp, ht, pid, tid \u001B[38;5;241m=\u001B[39m _winapi\u001B[38;5;241m.\u001B[39mCreateProcess(executable, args,\n\u001B[0;32m   1539\u001B[0m                              \u001B[38;5;66;03m# no special security\u001B[39;00m\n\u001B[0;32m   1540\u001B[0m                              \u001B[38;5;28;01mNone\u001B[39;00m, \u001B[38;5;28;01mNone\u001B[39;00m,\n\u001B[0;32m   1541\u001B[0m                              \u001B[38;5;28mint\u001B[39m(\u001B[38;5;129;01mnot\u001B[39;00m close_fds),\n\u001B[0;32m   1542\u001B[0m                              creationflags,\n\u001B[0;32m   1543\u001B[0m                              env,\n\u001B[0;32m   1544\u001B[0m                              cwd,\n\u001B[0;32m   1545\u001B[0m                              startupinfo)\n\u001B[0;32m   1546\u001B[0m \u001B[38;5;28;01mfinally\u001B[39;00m:\n\u001B[0;32m   1547\u001B[0m     \u001B[38;5;66;03m# Child is launched. Close the parent's copy of those pipe\u001B[39;00m\n\u001B[0;32m   1548\u001B[0m     \u001B[38;5;66;03m# handles that only the child should have open.  You need\u001B[39;00m\n\u001B[1;32m   (...)\u001B[0m\n\u001B[0;32m   1551\u001B[0m     \u001B[38;5;66;03m# pipe will not close when the child process exits and the\u001B[39;00m\n\u001B[0;32m   1552\u001B[0m     \u001B[38;5;66;03m# ReadFile will hang.\u001B[39;00m\n\u001B[0;32m   1553\u001B[0m     \u001B[38;5;28mself\u001B[39m\u001B[38;5;241m.\u001B[39m_close_pipe_fds(p2cread, p2cwrite,\n\u001B[0;32m   1554\u001B[0m                          c2pread, c2pwrite,\n\u001B[0;32m   1555\u001B[0m                          errread, errwrite)\n",
      "\u001B[1;31mPermissionError\u001B[0m: [WinError 5] 액세스가 거부되었습니다"
     ]
    }
   ],
   "execution_count": 8
  },
  {
   "metadata": {},
   "cell_type": "code",
   "outputs": [],
   "execution_count": null,
   "source": "url = \"https://www.amazon.com/Death-Ivan-Ilyich-Nikolayevich-Tolstoy/dp/1427027277\"",
   "id": "c6443e8aca63e1a3"
  }
 ],
 "metadata": {
  "kernelspec": {
   "display_name": "Python 3",
   "language": "python",
   "name": "python3"
  },
  "language_info": {
   "codemirror_mode": {
    "name": "ipython",
    "version": 2
   },
   "file_extension": ".py",
   "mimetype": "text/x-python",
   "name": "python",
   "nbconvert_exporter": "python",
   "pygments_lexer": "ipython2",
   "version": "2.7.6"
  }
 },
 "nbformat": 4,
 "nbformat_minor": 5
}
